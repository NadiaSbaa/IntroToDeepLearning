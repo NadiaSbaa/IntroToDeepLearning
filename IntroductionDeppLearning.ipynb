{
  "nbformat": 4,
  "nbformat_minor": 0,
  "metadata": {
    "colab": {
      "name": "IntroductionDeppLearning.ipynb",
      "provenance": [],
      "authorship_tag": "ABX9TyOAMbBp7riHB414T6U68r+5",
      "include_colab_link": true
    },
    "kernelspec": {
      "name": "python3",
      "display_name": "Python 3"
    }
  },
  "cells": [
    {
      "cell_type": "markdown",
      "metadata": {
        "id": "view-in-github",
        "colab_type": "text"
      },
      "source": [
        "<a href=\"https://colab.research.google.com/github/NadiaSbaa/IntroToDeepLearning/blob/master/IntroductionDeppLearning.ipynb\" target=\"_parent\"><img src=\"https://colab.research.google.com/assets/colab-badge.svg\" alt=\"Open In Colab\"/></a>"
      ]
    },
    {
      "cell_type": "code",
      "metadata": {
        "id": "yTeLv5G5EF-t",
        "colab_type": "code",
        "outputId": "8e648d3a-21a4-4870-8cb0-79dd5253e024",
        "colab": {
          "base_uri": "https://localhost:8080/",
          "height": 343
        }
      },
      "source": [
        "#Dependencies\n",
        "import numpy as np\n",
        "import pandas as pd\n",
        "#dataset import\n",
        "dataset = pd.read_csv('data.csv')\n",
        "dataset.head(10)"
      ],
      "execution_count": 0,
      "outputs": [
        {
          "output_type": "execute_result",
          "data": {
            "text/html": [
              "<div>\n",
              "<style scoped>\n",
              "    .dataframe tbody tr th:only-of-type {\n",
              "        vertical-align: middle;\n",
              "    }\n",
              "\n",
              "    .dataframe tbody tr th {\n",
              "        vertical-align: top;\n",
              "    }\n",
              "\n",
              "    .dataframe thead th {\n",
              "        text-align: right;\n",
              "    }\n",
              "</style>\n",
              "<table border=\"1\" class=\"dataframe\">\n",
              "  <thead>\n",
              "    <tr style=\"text-align: right;\">\n",
              "      <th></th>\n",
              "      <th>Pregnancies</th>\n",
              "      <th>Glucose</th>\n",
              "      <th>BloodPressure</th>\n",
              "      <th>SkinThickness</th>\n",
              "      <th>Insulin</th>\n",
              "      <th>BMI</th>\n",
              "      <th>DiabetesPedigreeFunction</th>\n",
              "      <th>Age</th>\n",
              "      <th>Outcome</th>\n",
              "    </tr>\n",
              "  </thead>\n",
              "  <tbody>\n",
              "    <tr>\n",
              "      <th>0</th>\n",
              "      <td>6</td>\n",
              "      <td>148</td>\n",
              "      <td>72</td>\n",
              "      <td>35</td>\n",
              "      <td>0</td>\n",
              "      <td>33.6</td>\n",
              "      <td>0.627</td>\n",
              "      <td>50</td>\n",
              "      <td>1</td>\n",
              "    </tr>\n",
              "    <tr>\n",
              "      <th>1</th>\n",
              "      <td>1</td>\n",
              "      <td>85</td>\n",
              "      <td>66</td>\n",
              "      <td>29</td>\n",
              "      <td>0</td>\n",
              "      <td>26.6</td>\n",
              "      <td>0.351</td>\n",
              "      <td>31</td>\n",
              "      <td>0</td>\n",
              "    </tr>\n",
              "    <tr>\n",
              "      <th>2</th>\n",
              "      <td>8</td>\n",
              "      <td>183</td>\n",
              "      <td>64</td>\n",
              "      <td>0</td>\n",
              "      <td>0</td>\n",
              "      <td>23.3</td>\n",
              "      <td>0.672</td>\n",
              "      <td>32</td>\n",
              "      <td>1</td>\n",
              "    </tr>\n",
              "    <tr>\n",
              "      <th>3</th>\n",
              "      <td>1</td>\n",
              "      <td>89</td>\n",
              "      <td>66</td>\n",
              "      <td>23</td>\n",
              "      <td>94</td>\n",
              "      <td>28.1</td>\n",
              "      <td>0.167</td>\n",
              "      <td>21</td>\n",
              "      <td>0</td>\n",
              "    </tr>\n",
              "    <tr>\n",
              "      <th>4</th>\n",
              "      <td>0</td>\n",
              "      <td>137</td>\n",
              "      <td>40</td>\n",
              "      <td>35</td>\n",
              "      <td>168</td>\n",
              "      <td>43.1</td>\n",
              "      <td>2.288</td>\n",
              "      <td>33</td>\n",
              "      <td>1</td>\n",
              "    </tr>\n",
              "    <tr>\n",
              "      <th>5</th>\n",
              "      <td>5</td>\n",
              "      <td>116</td>\n",
              "      <td>74</td>\n",
              "      <td>0</td>\n",
              "      <td>0</td>\n",
              "      <td>25.6</td>\n",
              "      <td>0.201</td>\n",
              "      <td>30</td>\n",
              "      <td>0</td>\n",
              "    </tr>\n",
              "    <tr>\n",
              "      <th>6</th>\n",
              "      <td>3</td>\n",
              "      <td>78</td>\n",
              "      <td>50</td>\n",
              "      <td>32</td>\n",
              "      <td>88</td>\n",
              "      <td>31.0</td>\n",
              "      <td>0.248</td>\n",
              "      <td>26</td>\n",
              "      <td>1</td>\n",
              "    </tr>\n",
              "    <tr>\n",
              "      <th>7</th>\n",
              "      <td>10</td>\n",
              "      <td>115</td>\n",
              "      <td>0</td>\n",
              "      <td>0</td>\n",
              "      <td>0</td>\n",
              "      <td>35.3</td>\n",
              "      <td>0.134</td>\n",
              "      <td>29</td>\n",
              "      <td>0</td>\n",
              "    </tr>\n",
              "    <tr>\n",
              "      <th>8</th>\n",
              "      <td>2</td>\n",
              "      <td>197</td>\n",
              "      <td>70</td>\n",
              "      <td>45</td>\n",
              "      <td>543</td>\n",
              "      <td>30.5</td>\n",
              "      <td>0.158</td>\n",
              "      <td>53</td>\n",
              "      <td>1</td>\n",
              "    </tr>\n",
              "    <tr>\n",
              "      <th>9</th>\n",
              "      <td>8</td>\n",
              "      <td>125</td>\n",
              "      <td>96</td>\n",
              "      <td>0</td>\n",
              "      <td>0</td>\n",
              "      <td>0.0</td>\n",
              "      <td>0.232</td>\n",
              "      <td>54</td>\n",
              "      <td>1</td>\n",
              "    </tr>\n",
              "  </tbody>\n",
              "</table>\n",
              "</div>"
            ],
            "text/plain": [
              "   Pregnancies  Glucose  BloodPressure  ...  DiabetesPedigreeFunction  Age  Outcome\n",
              "0            6      148             72  ...                     0.627   50        1\n",
              "1            1       85             66  ...                     0.351   31        0\n",
              "2            8      183             64  ...                     0.672   32        1\n",
              "3            1       89             66  ...                     0.167   21        0\n",
              "4            0      137             40  ...                     2.288   33        1\n",
              "5            5      116             74  ...                     0.201   30        0\n",
              "6            3       78             50  ...                     0.248   26        1\n",
              "7           10      115              0  ...                     0.134   29        0\n",
              "8            2      197             70  ...                     0.158   53        1\n",
              "9            8      125             96  ...                     0.232   54        1\n",
              "\n",
              "[10 rows x 9 columns]"
            ]
          },
          "metadata": {
            "tags": []
          },
          "execution_count": 22
        }
      ]
    },
    {
      "cell_type": "code",
      "metadata": {
        "id": "4amanuhyEbDn",
        "colab_type": "code",
        "colab": {}
      },
      "source": [
        "#changing pandas datframe to numpy array\n",
        "#X represents the features\n",
        "X = dataset.iloc[:,:7].values\n",
        "#Y represents the label\n",
        "y = dataset.iloc[:,8:].values\n"
      ],
      "execution_count": 0,
      "outputs": []
    },
    {
      "cell_type": "code",
      "metadata": {
        "id": "JOxLwI58ErS9",
        "colab_type": "code",
        "colab": {}
      },
      "source": [
        "#Normalizing the data\n",
        "from sklearn.preprocessing import StandardScaler\n",
        "sc = StandardScaler()\n",
        "X = sc.fit_transform(X)"
      ],
      "execution_count": 0,
      "outputs": []
    },
    {
      "cell_type": "code",
      "metadata": {
        "id": "V5CWZ0UlF4c0",
        "colab_type": "code",
        "colab": {}
      },
      "source": [
        "from sklearn.preprocessing import OneHotEncoder\n",
        "ohe = OneHotEncoder()\n",
        "y = ohe.fit_transform(y).toarray()"
      ],
      "execution_count": 0,
      "outputs": []
    },
    {
      "cell_type": "code",
      "metadata": {
        "id": "Z5PEjq5RGaqm",
        "colab_type": "code",
        "colab": {}
      },
      "source": [
        "from sklearn.model_selection import train_test_split\n",
        "X_train,X_test, y_train, y_test = train_test_split(X,y, test_size = 0.2)"
      ],
      "execution_count": 0,
      "outputs": []
    },
    {
      "cell_type": "code",
      "metadata": {
        "id": "zSR06gLZGsFp",
        "colab_type": "code",
        "colab": {}
      },
      "source": [
        "#Dependencies\n",
        "import keras\n",
        "from keras.models import Sequential\n",
        "from keras.layers import Dense\n",
        " #Neural network\n",
        "model = Sequential([\n",
        "     Dense(16, input_dim =7 , activation='relu'),\n",
        "     Dense(12, activation='relu'),\n",
        "     Dense(2, activation='softmax')\n",
        "])"
      ],
      "execution_count": 0,
      "outputs": []
    },
    {
      "cell_type": "code",
      "metadata": {
        "id": "mKmhxtRPHTs0",
        "colab_type": "code",
        "colab": {}
      },
      "source": [
        "model.compile(loss='categorical_crossentropy', optimizer='adam', metrics=['accuracy'])"
      ],
      "execution_count": 0,
      "outputs": []
    },
    {
      "cell_type": "code",
      "metadata": {
        "id": "u-o-zsDFHkpA",
        "colab_type": "code",
        "outputId": "2097dd60-915c-4bdf-bf0c-c585631adf6c",
        "colab": {
          "base_uri": "https://localhost:8080/",
          "height": 252
        }
      },
      "source": [
        "model.summary()"
      ],
      "execution_count": 0,
      "outputs": [
        {
          "output_type": "stream",
          "text": [
            "Model: \"sequential_2\"\n",
            "_________________________________________________________________\n",
            "Layer (type)                 Output Shape              Param #   \n",
            "=================================================================\n",
            "dense_4 (Dense)              (None, 16)                128       \n",
            "_________________________________________________________________\n",
            "dense_5 (Dense)              (None, 12)                204       \n",
            "_________________________________________________________________\n",
            "dense_6 (Dense)              (None, 2)                 26        \n",
            "=================================================================\n",
            "Total params: 358\n",
            "Trainable params: 358\n",
            "Non-trainable params: 0\n",
            "_________________________________________________________________\n"
          ],
          "name": "stdout"
        }
      ]
    },
    {
      "cell_type": "code",
      "metadata": {
        "id": "JKIWqMvVHmfU",
        "colab_type": "code",
        "outputId": "31805e4e-a885-461e-fafa-2f79ebde6ce2",
        "colab": {
          "base_uri": "https://localhost:8080/",
          "height": 1000
        }
      },
      "source": [
        "history = model.fit(X_train, y_train, validation_data=(X_test, y_test), epochs = 100, batch_size=64)"
      ],
      "execution_count": 0,
      "outputs": [
        {
          "output_type": "stream",
          "text": [
            "Train on 614 samples, validate on 154 samples\n",
            "Epoch 1/100\n",
            "614/614 [==============================] - 0s 166us/step - loss: 0.6407 - accuracy: 0.7101 - val_loss: 0.6324 - val_accuracy: 0.7013\n",
            "Epoch 2/100\n",
            "614/614 [==============================] - 0s 33us/step - loss: 0.6199 - accuracy: 0.7427 - val_loss: 0.6157 - val_accuracy: 0.7338\n",
            "Epoch 3/100\n",
            "614/614 [==============================] - 0s 32us/step - loss: 0.6001 - accuracy: 0.7508 - val_loss: 0.5995 - val_accuracy: 0.7273\n",
            "Epoch 4/100\n",
            "614/614 [==============================] - 0s 32us/step - loss: 0.5831 - accuracy: 0.7508 - val_loss: 0.5837 - val_accuracy: 0.7403\n",
            "Epoch 5/100\n",
            "614/614 [==============================] - 0s 35us/step - loss: 0.5664 - accuracy: 0.7557 - val_loss: 0.5704 - val_accuracy: 0.7468\n",
            "Epoch 6/100\n",
            "614/614 [==============================] - 0s 37us/step - loss: 0.5516 - accuracy: 0.7573 - val_loss: 0.5578 - val_accuracy: 0.7532\n",
            "Epoch 7/100\n",
            "614/614 [==============================] - 0s 37us/step - loss: 0.5386 - accuracy: 0.7638 - val_loss: 0.5445 - val_accuracy: 0.7532\n",
            "Epoch 8/100\n",
            "614/614 [==============================] - 0s 35us/step - loss: 0.5259 - accuracy: 0.7655 - val_loss: 0.5348 - val_accuracy: 0.7532\n",
            "Epoch 9/100\n",
            "614/614 [==============================] - 0s 33us/step - loss: 0.5150 - accuracy: 0.7655 - val_loss: 0.5252 - val_accuracy: 0.7468\n",
            "Epoch 10/100\n",
            "614/614 [==============================] - 0s 37us/step - loss: 0.5054 - accuracy: 0.7704 - val_loss: 0.5161 - val_accuracy: 0.7532\n",
            "Epoch 11/100\n",
            "614/614 [==============================] - 0s 29us/step - loss: 0.4967 - accuracy: 0.7704 - val_loss: 0.5099 - val_accuracy: 0.7468\n",
            "Epoch 12/100\n",
            "614/614 [==============================] - 0s 33us/step - loss: 0.4899 - accuracy: 0.7785 - val_loss: 0.5045 - val_accuracy: 0.7468\n",
            "Epoch 13/100\n",
            "614/614 [==============================] - 0s 35us/step - loss: 0.4843 - accuracy: 0.7866 - val_loss: 0.5004 - val_accuracy: 0.7403\n",
            "Epoch 14/100\n",
            "614/614 [==============================] - 0s 41us/step - loss: 0.4797 - accuracy: 0.7866 - val_loss: 0.4990 - val_accuracy: 0.7532\n",
            "Epoch 15/100\n",
            "614/614 [==============================] - 0s 39us/step - loss: 0.4757 - accuracy: 0.7883 - val_loss: 0.4953 - val_accuracy: 0.7532\n",
            "Epoch 16/100\n",
            "614/614 [==============================] - 0s 32us/step - loss: 0.4717 - accuracy: 0.7915 - val_loss: 0.4940 - val_accuracy: 0.7597\n",
            "Epoch 17/100\n",
            "614/614 [==============================] - 0s 34us/step - loss: 0.4685 - accuracy: 0.7932 - val_loss: 0.4928 - val_accuracy: 0.7532\n",
            "Epoch 18/100\n",
            "614/614 [==============================] - 0s 37us/step - loss: 0.4662 - accuracy: 0.7932 - val_loss: 0.4912 - val_accuracy: 0.7532\n",
            "Epoch 19/100\n",
            "614/614 [==============================] - 0s 39us/step - loss: 0.4645 - accuracy: 0.7932 - val_loss: 0.4889 - val_accuracy: 0.7532\n",
            "Epoch 20/100\n",
            "614/614 [==============================] - 0s 34us/step - loss: 0.4619 - accuracy: 0.7915 - val_loss: 0.4889 - val_accuracy: 0.7532\n",
            "Epoch 21/100\n",
            "614/614 [==============================] - 0s 35us/step - loss: 0.4598 - accuracy: 0.7915 - val_loss: 0.4905 - val_accuracy: 0.7597\n",
            "Epoch 22/100\n",
            "614/614 [==============================] - 0s 52us/step - loss: 0.4586 - accuracy: 0.7899 - val_loss: 0.4894 - val_accuracy: 0.7468\n",
            "Epoch 23/100\n",
            "614/614 [==============================] - 0s 40us/step - loss: 0.4572 - accuracy: 0.7899 - val_loss: 0.4886 - val_accuracy: 0.7468\n",
            "Epoch 24/100\n",
            "614/614 [==============================] - 0s 31us/step - loss: 0.4560 - accuracy: 0.7932 - val_loss: 0.4903 - val_accuracy: 0.7532\n",
            "Epoch 25/100\n",
            "614/614 [==============================] - 0s 31us/step - loss: 0.4544 - accuracy: 0.7899 - val_loss: 0.4892 - val_accuracy: 0.7532\n",
            "Epoch 26/100\n",
            "614/614 [==============================] - 0s 33us/step - loss: 0.4534 - accuracy: 0.7932 - val_loss: 0.4886 - val_accuracy: 0.7532\n",
            "Epoch 27/100\n",
            "614/614 [==============================] - 0s 33us/step - loss: 0.4526 - accuracy: 0.7915 - val_loss: 0.4887 - val_accuracy: 0.7532\n",
            "Epoch 28/100\n",
            "614/614 [==============================] - 0s 32us/step - loss: 0.4518 - accuracy: 0.7899 - val_loss: 0.4899 - val_accuracy: 0.7468\n",
            "Epoch 29/100\n",
            "614/614 [==============================] - 0s 30us/step - loss: 0.4508 - accuracy: 0.7915 - val_loss: 0.4885 - val_accuracy: 0.7403\n",
            "Epoch 30/100\n",
            "614/614 [==============================] - 0s 30us/step - loss: 0.4497 - accuracy: 0.7915 - val_loss: 0.4891 - val_accuracy: 0.7403\n",
            "Epoch 31/100\n",
            "614/614 [==============================] - 0s 30us/step - loss: 0.4488 - accuracy: 0.7899 - val_loss: 0.4889 - val_accuracy: 0.7468\n",
            "Epoch 32/100\n",
            "614/614 [==============================] - 0s 30us/step - loss: 0.4479 - accuracy: 0.7899 - val_loss: 0.4899 - val_accuracy: 0.7403\n",
            "Epoch 33/100\n",
            "614/614 [==============================] - 0s 31us/step - loss: 0.4470 - accuracy: 0.7899 - val_loss: 0.4902 - val_accuracy: 0.7338\n",
            "Epoch 34/100\n",
            "614/614 [==============================] - 0s 34us/step - loss: 0.4467 - accuracy: 0.7883 - val_loss: 0.4903 - val_accuracy: 0.7338\n",
            "Epoch 35/100\n",
            "614/614 [==============================] - 0s 32us/step - loss: 0.4455 - accuracy: 0.7915 - val_loss: 0.4897 - val_accuracy: 0.7338\n",
            "Epoch 36/100\n",
            "614/614 [==============================] - 0s 38us/step - loss: 0.4450 - accuracy: 0.7915 - val_loss: 0.4895 - val_accuracy: 0.7338\n",
            "Epoch 37/100\n",
            "614/614 [==============================] - 0s 33us/step - loss: 0.4442 - accuracy: 0.7932 - val_loss: 0.4909 - val_accuracy: 0.7338\n",
            "Epoch 38/100\n",
            "614/614 [==============================] - 0s 31us/step - loss: 0.4438 - accuracy: 0.7932 - val_loss: 0.4903 - val_accuracy: 0.7338\n",
            "Epoch 39/100\n",
            "614/614 [==============================] - 0s 31us/step - loss: 0.4428 - accuracy: 0.7948 - val_loss: 0.4901 - val_accuracy: 0.7338\n",
            "Epoch 40/100\n",
            "614/614 [==============================] - 0s 31us/step - loss: 0.4421 - accuracy: 0.7980 - val_loss: 0.4913 - val_accuracy: 0.7338\n",
            "Epoch 41/100\n",
            "614/614 [==============================] - 0s 42us/step - loss: 0.4417 - accuracy: 0.7915 - val_loss: 0.4904 - val_accuracy: 0.7403\n",
            "Epoch 42/100\n",
            "614/614 [==============================] - 0s 38us/step - loss: 0.4413 - accuracy: 0.7883 - val_loss: 0.4911 - val_accuracy: 0.7338\n",
            "Epoch 43/100\n",
            "614/614 [==============================] - 0s 34us/step - loss: 0.4406 - accuracy: 0.7915 - val_loss: 0.4904 - val_accuracy: 0.7403\n",
            "Epoch 44/100\n",
            "614/614 [==============================] - 0s 36us/step - loss: 0.4400 - accuracy: 0.7899 - val_loss: 0.4909 - val_accuracy: 0.7403\n",
            "Epoch 45/100\n",
            "614/614 [==============================] - 0s 34us/step - loss: 0.4393 - accuracy: 0.7932 - val_loss: 0.4915 - val_accuracy: 0.7338\n",
            "Epoch 46/100\n",
            "614/614 [==============================] - 0s 32us/step - loss: 0.4386 - accuracy: 0.7932 - val_loss: 0.4913 - val_accuracy: 0.7403\n",
            "Epoch 47/100\n",
            "614/614 [==============================] - 0s 32us/step - loss: 0.4388 - accuracy: 0.7948 - val_loss: 0.4904 - val_accuracy: 0.7338\n",
            "Epoch 48/100\n",
            "614/614 [==============================] - 0s 31us/step - loss: 0.4378 - accuracy: 0.7899 - val_loss: 0.4922 - val_accuracy: 0.7403\n",
            "Epoch 49/100\n",
            "614/614 [==============================] - 0s 45us/step - loss: 0.4375 - accuracy: 0.7899 - val_loss: 0.4927 - val_accuracy: 0.7338\n",
            "Epoch 50/100\n",
            "614/614 [==============================] - 0s 40us/step - loss: 0.4369 - accuracy: 0.7899 - val_loss: 0.4929 - val_accuracy: 0.7338\n",
            "Epoch 51/100\n",
            "614/614 [==============================] - 0s 33us/step - loss: 0.4369 - accuracy: 0.7932 - val_loss: 0.4928 - val_accuracy: 0.7273\n",
            "Epoch 52/100\n",
            "614/614 [==============================] - 0s 34us/step - loss: 0.4362 - accuracy: 0.7899 - val_loss: 0.4928 - val_accuracy: 0.7273\n",
            "Epoch 53/100\n",
            "614/614 [==============================] - 0s 34us/step - loss: 0.4356 - accuracy: 0.7932 - val_loss: 0.4928 - val_accuracy: 0.7273\n",
            "Epoch 54/100\n",
            "614/614 [==============================] - 0s 32us/step - loss: 0.4361 - accuracy: 0.7932 - val_loss: 0.4920 - val_accuracy: 0.7273\n",
            "Epoch 55/100\n",
            "614/614 [==============================] - 0s 31us/step - loss: 0.4353 - accuracy: 0.7932 - val_loss: 0.4943 - val_accuracy: 0.7338\n",
            "Epoch 56/100\n",
            "614/614 [==============================] - 0s 31us/step - loss: 0.4346 - accuracy: 0.7932 - val_loss: 0.4942 - val_accuracy: 0.7338\n",
            "Epoch 57/100\n",
            "614/614 [==============================] - 0s 33us/step - loss: 0.4342 - accuracy: 0.7932 - val_loss: 0.4935 - val_accuracy: 0.7338\n",
            "Epoch 58/100\n",
            "614/614 [==============================] - 0s 33us/step - loss: 0.4338 - accuracy: 0.7932 - val_loss: 0.4949 - val_accuracy: 0.7338\n",
            "Epoch 59/100\n",
            "614/614 [==============================] - 0s 40us/step - loss: 0.4334 - accuracy: 0.7932 - val_loss: 0.4947 - val_accuracy: 0.7338\n",
            "Epoch 60/100\n",
            "614/614 [==============================] - 0s 43us/step - loss: 0.4333 - accuracy: 0.7964 - val_loss: 0.4946 - val_accuracy: 0.7338\n",
            "Epoch 61/100\n",
            "614/614 [==============================] - 0s 36us/step - loss: 0.4333 - accuracy: 0.7980 - val_loss: 0.4938 - val_accuracy: 0.7338\n",
            "Epoch 62/100\n",
            "614/614 [==============================] - 0s 35us/step - loss: 0.4326 - accuracy: 0.7997 - val_loss: 0.4951 - val_accuracy: 0.7338\n",
            "Epoch 63/100\n",
            "614/614 [==============================] - 0s 36us/step - loss: 0.4328 - accuracy: 0.7932 - val_loss: 0.4959 - val_accuracy: 0.7338\n",
            "Epoch 64/100\n",
            "614/614 [==============================] - 0s 32us/step - loss: 0.4318 - accuracy: 0.7932 - val_loss: 0.4955 - val_accuracy: 0.7338\n",
            "Epoch 65/100\n",
            "614/614 [==============================] - 0s 31us/step - loss: 0.4316 - accuracy: 0.7948 - val_loss: 0.4951 - val_accuracy: 0.7338\n",
            "Epoch 66/100\n",
            "614/614 [==============================] - 0s 31us/step - loss: 0.4312 - accuracy: 0.7980 - val_loss: 0.4953 - val_accuracy: 0.7338\n",
            "Epoch 67/100\n",
            "614/614 [==============================] - 0s 39us/step - loss: 0.4309 - accuracy: 0.7980 - val_loss: 0.4957 - val_accuracy: 0.7338\n",
            "Epoch 68/100\n",
            "614/614 [==============================] - 0s 43us/step - loss: 0.4307 - accuracy: 0.7964 - val_loss: 0.4953 - val_accuracy: 0.7338\n",
            "Epoch 69/100\n",
            "614/614 [==============================] - 0s 32us/step - loss: 0.4304 - accuracy: 0.7997 - val_loss: 0.4962 - val_accuracy: 0.7338\n",
            "Epoch 70/100\n",
            "614/614 [==============================] - 0s 31us/step - loss: 0.4301 - accuracy: 0.7932 - val_loss: 0.4978 - val_accuracy: 0.7403\n",
            "Epoch 71/100\n",
            "614/614 [==============================] - 0s 32us/step - loss: 0.4299 - accuracy: 0.7932 - val_loss: 0.4974 - val_accuracy: 0.7273\n",
            "Epoch 72/100\n",
            "614/614 [==============================] - 0s 44us/step - loss: 0.4295 - accuracy: 0.7980 - val_loss: 0.4971 - val_accuracy: 0.7338\n",
            "Epoch 73/100\n",
            "614/614 [==============================] - 0s 29us/step - loss: 0.4291 - accuracy: 0.7948 - val_loss: 0.4972 - val_accuracy: 0.7403\n",
            "Epoch 74/100\n",
            "614/614 [==============================] - 0s 35us/step - loss: 0.4301 - accuracy: 0.7997 - val_loss: 0.4951 - val_accuracy: 0.7338\n",
            "Epoch 75/100\n",
            "614/614 [==============================] - 0s 35us/step - loss: 0.4283 - accuracy: 0.7997 - val_loss: 0.4965 - val_accuracy: 0.7338\n",
            "Epoch 76/100\n",
            "614/614 [==============================] - 0s 31us/step - loss: 0.4284 - accuracy: 0.7980 - val_loss: 0.4982 - val_accuracy: 0.7403\n",
            "Epoch 77/100\n",
            "614/614 [==============================] - 0s 37us/step - loss: 0.4285 - accuracy: 0.7948 - val_loss: 0.4991 - val_accuracy: 0.7338\n",
            "Epoch 78/100\n",
            "614/614 [==============================] - 0s 31us/step - loss: 0.4281 - accuracy: 0.7932 - val_loss: 0.4978 - val_accuracy: 0.7403\n",
            "Epoch 79/100\n",
            "614/614 [==============================] - 0s 33us/step - loss: 0.4280 - accuracy: 0.8029 - val_loss: 0.4960 - val_accuracy: 0.7338\n",
            "Epoch 80/100\n",
            "614/614 [==============================] - 0s 32us/step - loss: 0.4277 - accuracy: 0.7948 - val_loss: 0.4974 - val_accuracy: 0.7403\n",
            "Epoch 81/100\n",
            "614/614 [==============================] - 0s 31us/step - loss: 0.4272 - accuracy: 0.8013 - val_loss: 0.4977 - val_accuracy: 0.7403\n",
            "Epoch 82/100\n",
            "614/614 [==============================] - 0s 32us/step - loss: 0.4269 - accuracy: 0.7964 - val_loss: 0.4980 - val_accuracy: 0.7403\n",
            "Epoch 83/100\n",
            "614/614 [==============================] - 0s 36us/step - loss: 0.4271 - accuracy: 0.7980 - val_loss: 0.4965 - val_accuracy: 0.7403\n",
            "Epoch 84/100\n",
            "614/614 [==============================] - 0s 40us/step - loss: 0.4273 - accuracy: 0.7980 - val_loss: 0.4960 - val_accuracy: 0.7403\n",
            "Epoch 85/100\n",
            "614/614 [==============================] - 0s 34us/step - loss: 0.4264 - accuracy: 0.7980 - val_loss: 0.4993 - val_accuracy: 0.7403\n",
            "Epoch 86/100\n",
            "614/614 [==============================] - 0s 35us/step - loss: 0.4263 - accuracy: 0.7964 - val_loss: 0.4987 - val_accuracy: 0.7403\n",
            "Epoch 87/100\n",
            "614/614 [==============================] - 0s 37us/step - loss: 0.4258 - accuracy: 0.7997 - val_loss: 0.4985 - val_accuracy: 0.7403\n",
            "Epoch 88/100\n",
            "614/614 [==============================] - 0s 32us/step - loss: 0.4253 - accuracy: 0.8013 - val_loss: 0.4989 - val_accuracy: 0.7403\n",
            "Epoch 89/100\n",
            "614/614 [==============================] - 0s 33us/step - loss: 0.4257 - accuracy: 0.7997 - val_loss: 0.5004 - val_accuracy: 0.7403\n",
            "Epoch 90/100\n",
            "614/614 [==============================] - 0s 44us/step - loss: 0.4251 - accuracy: 0.8029 - val_loss: 0.4979 - val_accuracy: 0.7468\n",
            "Epoch 91/100\n",
            "614/614 [==============================] - 0s 35us/step - loss: 0.4247 - accuracy: 0.8062 - val_loss: 0.4979 - val_accuracy: 0.7468\n",
            "Epoch 92/100\n",
            "614/614 [==============================] - 0s 38us/step - loss: 0.4245 - accuracy: 0.8046 - val_loss: 0.4987 - val_accuracy: 0.7403\n",
            "Epoch 93/100\n",
            "614/614 [==============================] - 0s 35us/step - loss: 0.4243 - accuracy: 0.7980 - val_loss: 0.4995 - val_accuracy: 0.7403\n",
            "Epoch 94/100\n",
            "614/614 [==============================] - 0s 39us/step - loss: 0.4242 - accuracy: 0.7997 - val_loss: 0.4999 - val_accuracy: 0.7403\n",
            "Epoch 95/100\n",
            "614/614 [==============================] - 0s 34us/step - loss: 0.4238 - accuracy: 0.8013 - val_loss: 0.4984 - val_accuracy: 0.7468\n",
            "Epoch 96/100\n",
            "614/614 [==============================] - 0s 31us/step - loss: 0.4242 - accuracy: 0.8029 - val_loss: 0.4980 - val_accuracy: 0.7403\n",
            "Epoch 97/100\n",
            "614/614 [==============================] - 0s 32us/step - loss: 0.4229 - accuracy: 0.8013 - val_loss: 0.5004 - val_accuracy: 0.7403\n",
            "Epoch 98/100\n",
            "614/614 [==============================] - 0s 32us/step - loss: 0.4233 - accuracy: 0.8013 - val_loss: 0.5011 - val_accuracy: 0.7338\n",
            "Epoch 99/100\n",
            "614/614 [==============================] - 0s 31us/step - loss: 0.4229 - accuracy: 0.8046 - val_loss: 0.5018 - val_accuracy: 0.7338\n",
            "Epoch 100/100\n",
            "614/614 [==============================] - 0s 37us/step - loss: 0.4228 - accuracy: 0.8046 - val_loss: 0.5025 - val_accuracy: 0.7338\n"
          ],
          "name": "stdout"
        }
      ]
    },
    {
      "cell_type": "code",
      "metadata": {
        "id": "BIiiDtsPH29T",
        "colab_type": "code",
        "outputId": "324f3b32-28db-49ab-be12-f9943931f91d",
        "colab": {
          "base_uri": "https://localhost:8080/",
          "height": 295
        }
      },
      "source": [
        "import matplotlib.pyplot as plt\n",
        "plt.plot(history.history['accuracy'])\n",
        "plt.plot(history.history['val_accuracy'])\n",
        "plt.title('Model accuracy')\n",
        "plt.ylabel('Accuracy')\n",
        "plt.xlabel('Epoch')\n",
        "plt.legend(['Train','Test'], loc='upper left')\n",
        "plt.show()"
      ],
      "execution_count": 0,
      "outputs": [
        {
          "output_type": "display_data",
          "data": {
            "image/png": "[encoded data removed]",
            "text/plain": [
              "<Figure size 432x288 with 1 Axes>"
            ]
          },
          "metadata": {
            "tags": [],
            "needs_background": "light"
          }
        }
      ]
    },
    {
      "cell_type": "code",
      "metadata": {
        "id": "EhaOMAznIiMw",
        "colab_type": "code",
        "outputId": "fd766488-44ea-470a-a171-4c476b6fb322",
        "colab": {
          "base_uri": "https://localhost:8080/",
          "height": 295
        }
      },
      "source": [
        "plt.plot(history.history['loss'])\n",
        "plt.plot(history.history['val_loss'])\n",
        "plt.title('Model loss')\n",
        "plt.ylabel('Loss')\n",
        "plt.xlabel('Epoch')\n",
        "plt.legend(['Train','Test'], loc='upper left')\n",
        "plt.show()"
      ],
      "execution_count": 0,
      "outputs": [
        {
          "output_type": "display_data",
          "data": {
            "image/png": "[encoded data removed]",
            "text/plain": [
              "<Figure size 432x288 with 1 Axes>"
            ]
          },
          "metadata": {
            "tags": [],
            "needs_background": "light"
          }
        }
      ]
    },
    {
      "cell_type": "code",
      "metadata": {
        "id": "ERR-NYCbJtLr",
        "colab_type": "code",
        "outputId": "21bcb5f3-4f37-4876-953a-647c631b5068",
        "colab": {
          "base_uri": "https://localhost:8080/",
          "height": 487
        }
      },
      "source": [
        "weights, biases = model.layers[0].get_weights()\n",
        "weights"
      ],
      "execution_count": 0,
      "outputs": [
        {
          "output_type": "execute_result",
          "data": {
            "text/plain": [
              "array([[-0.43112752, -0.14186987,  0.43941018, -0.5946663 ,  0.5884929 ,\n",
              "        -0.29908088,  0.20941204,  0.30627784, -0.49008343, -0.00156621,\n",
              "        -0.50927997, -0.47074285, -0.30627653,  0.00312304, -0.13030948,\n",
              "        -0.13792588],\n",
              "       [ 0.24858999,  0.38217467,  0.09659846,  0.45690092, -0.19163938,\n",
              "        -0.58631235,  0.49816525,  0.46030784,  0.06549798, -0.55047154,\n",
              "        -0.2101541 , -0.11426423,  0.46237496,  0.49634838, -0.14663202,\n",
              "         0.04436148],\n",
              "       [-0.02005512, -0.10780461,  0.0492188 ,  0.09147031, -0.16537146,\n",
              "        -0.24985972,  0.48639125, -0.2080212 , -0.3611108 ,  0.5946049 ,\n",
              "        -0.03775244,  0.01396507, -0.38611275, -0.2655629 , -0.29525667,\n",
              "         0.21858732],\n",
              "       [-0.4191442 ,  0.47532684,  0.19171533,  0.11594326,  0.16951004,\n",
              "         0.05259495, -0.261073  ,  0.49688065,  0.1625883 , -0.2292512 ,\n",
              "        -0.621789  , -0.4557514 , -0.54184693,  0.01745369,  0.02874915,\n",
              "         0.3882287 ],\n",
              "       [-0.15976547,  0.5436672 ,  0.25179046, -0.3759616 ,  0.3982281 ,\n",
              "        -0.17089592,  0.2116326 ,  0.48119843, -0.2756194 , -0.14435843,\n",
              "         0.49679542,  0.06790905,  0.12576175, -0.14101622, -0.02888398,\n",
              "        -0.08824814],\n",
              "       [-0.2444961 , -0.08220886, -0.41826898,  0.12933859,  0.43738064,\n",
              "        -0.06338347,  0.16098954,  0.74178517, -0.26067296,  0.01207437,\n",
              "        -0.09904149, -0.53171533, -0.1652699 ,  0.1393368 , -0.47947207,\n",
              "        -0.38374376],\n",
              "       [-0.50541925, -0.35389274,  0.35784107, -0.15999985,  0.01275809,\n",
              "        -0.3887021 , -0.22972448, -0.3277939 ,  0.00984088, -0.4760021 ,\n",
              "         0.34182233,  0.21177162,  0.15449294,  0.07410403, -0.10519373,\n",
              "        -0.5852747 ]], dtype=float32)"
            ]
          },
          "metadata": {
            "tags": []
          },
          "execution_count": 33
        }
      ]
    },
    {
      "cell_type": "code",
      "metadata": {
        "id": "irEGT3KyJ6sf",
        "colab_type": "code",
        "colab": {}
      },
      "source": [
        ""
      ],
      "execution_count": 0,
      "outputs": []
    }
  ]
}